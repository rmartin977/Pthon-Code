{
 "cells": [
  {
   "cell_type": "markdown",
   "metadata": {},
   "source": [
    "## How much memory does Python 3 use to store variables?\n",
    "   by Robert Martin.  8/3/2019"
   ]
  },
  {
   "cell_type": "markdown",
   "metadata": {},
   "source": [
    "Case 1.   Integers\n",
    "\n",
    "For integers the answer is that it depends on the size of the integer.  Python 3 has variable precision for integers so the number of bytes required will be determined by the size of the integer."
   ]
  },
  {
   "cell_type": "code",
   "execution_count": 29,
   "metadata": {},
   "outputs": [],
   "source": [
    "import sys"
   ]
  },
  {
   "cell_type": "code",
   "execution_count": 2,
   "metadata": {},
   "outputs": [],
   "source": [
    "a = 0  # zero is a special case and  the answer is 24 bytes.  Most of these bytes are used for overhead."
   ]
  },
  {
   "cell_type": "code",
   "execution_count": 4,
   "metadata": {},
   "outputs": [
    {
     "data": {
      "text/plain": [
       "24"
      ]
     },
     "execution_count": 4,
     "metadata": {},
     "output_type": "execute_result"
    }
   ],
   "source": [
    "sys.getsizeof(a)\n"
   ]
  },
  {
   "cell_type": "code",
   "execution_count": 8,
   "metadata": {},
   "outputs": [],
   "source": [
    "b = 24601  # for this integer the answer is 28 bytes"
   ]
  },
  {
   "cell_type": "code",
   "execution_count": 31,
   "metadata": {},
   "outputs": [
    {
     "data": {
      "text/plain": [
       "28"
      ]
     },
     "execution_count": 31,
     "metadata": {},
     "output_type": "execute_result"
    }
   ],
   "source": [
    "sys.getsizeof(b) \n"
   ]
  },
  {
   "cell_type": "markdown",
   "metadata": {},
   "source": [
    "## Does this mean a list of 1000 integers will require 28,000 bytes?  No!"
   ]
  },
  {
   "cell_type": "code",
   "execution_count": 24,
   "metadata": {},
   "outputs": [],
   "source": [
    "c = list(range(1000))  \n",
    "d = list(range(10000))\n",
    "e = list(range(100000))"
   ]
  },
  {
   "cell_type": "code",
   "execution_count": 25,
   "metadata": {},
   "outputs": [
    {
     "data": {
      "text/plain": [
       "(9112, 90112, 900112)"
      ]
     },
     "execution_count": 25,
     "metadata": {},
     "output_type": "execute_result"
    }
   ],
   "source": [
    "(sys.getsizeof(c),sys.getsizeof(d),sys.getsizeof(e))  # notice below an average of about 9 bytes per integer"
   ]
  },
  {
   "cell_type": "markdown",
   "metadata": {},
   "source": [
    "## The table below shows how the number of bytes required to store a single integer depends on the size of integer.  Below we see the number of bytes range from 28 to 44 bytes for the numbers given."
   ]
  },
  {
   "cell_type": "code",
   "execution_count": 44,
   "metadata": {},
   "outputs": [
    {
     "name": "stdout",
     "output_type": "stream",
     "text": [
      "Integer                                 \t\t\tNumber of Bytes\n",
      "----------------------------------------------------------------------------------------------------\n",
      "1048576                                 \t\t\t28\n",
      "\n",
      "4294967296                              \t\t\t32\n",
      "\n",
      "18446744073709551616                    \t\t\t36\n",
      "\n",
      "79228162514264337593543950336           \t\t\t40\n",
      "\n",
      "340282366920938463463374607431768211456 \t\t\t44\n",
      "\n"
     ]
    }
   ],
   "source": [
    "print('{:<40}\\t\\t\\t{}\\n'.format('Integer','Number of Bytes'),end=\"\")\n",
    "print('-'*100)\n",
    "for k in [20,32,64,96,128]:\n",
    "    print('{:<40}\\t\\t\\t{}\\n'.format(2**k,sys.getsizeof(2**k)))"
   ]
  },
  {
   "cell_type": "markdown",
   "metadata": {},
   "source": [
    "Case 2.  Floating point numbers or \"floats\". Floating point numbers require 24 bytes. Notice below that all the different floats require 24 bytes each. The 24 bytes for the float object consist of 8 bytes for a pointer, 8 bytes for a reference count and then finally 8 bytes for the actual double precsion number.\n"
   ]
  },
  {
   "cell_type": "code",
   "execution_count": 55,
   "metadata": {},
   "outputs": [
    {
     "name": "stdout",
     "output_type": "stream",
     "text": [
      "Integer                                 \t\t\tNumber of Bytes\n",
      "----------------------------------------------------------------------------------------------------\n",
      "1048576.0                               \t\t\t24\n",
      "\n",
      "4294967296.0                            \t\t\t24\n",
      "\n",
      "1.8446744073709552e+19                  \t\t\t24\n",
      "\n",
      "7.922816251426434e+28                   \t\t\t24\n",
      "\n",
      "3.402823669209385e+38                   \t\t\t24\n",
      "\n",
      "1.6069380442589903e+60                  \t\t\t24\n",
      "\n"
     ]
    }
   ],
   "source": [
    "print('{:<40}\\t\\t\\t{}\\n'.format('Integer','Number of Bytes'),end=\"\")\n",
    "print('-'*100)\n",
    "for k in [20.,32.,64.,96.,128.,200.]:\n",
    "    print('{:<40}\\t\\t\\t{}\\n'.format(2**k,sys.getsizeof(2**k)))"
   ]
  },
  {
   "cell_type": "code",
   "execution_count": 56,
   "metadata": {},
   "outputs": [
    {
     "data": {
      "text/plain": [
       "1.7976931348623157e+308"
      ]
     },
     "execution_count": 56,
     "metadata": {},
     "output_type": "execute_result"
    }
   ],
   "source": [
    "sys.float_info.max  # the maximum value that can be representd by a double precision float is:"
   ]
  },
  {
   "cell_type": "markdown",
   "metadata": {},
   "source": [
    "## To see how this maximum value is arrived at requires deciphering the IEEE standard please see: https://en.wikipedia.org/wiki/Double-precision_floating-point_format"
   ]
  },
  {
   "cell_type": "markdown",
   "metadata": {},
   "source": [
    "<img src=\"1280px-IEEE_754_Double_Floating_Point_Format.svg.png\">"
   ]
  },
  {
   "cell_type": "markdown",
   "metadata": {},
   "source": [
    "Case 3. Numpy integers.  These come in a variety of flavors:  uint8, int32, int64 etc. The memory requirement for each type is fixed. Type uint8 uses 8 bits and can hold integers between 0 and 255."
   ]
  },
  {
   "cell_type": "code",
   "execution_count": 67,
   "metadata": {},
   "outputs": [
    {
     "data": {
      "text/plain": [
       "22"
      ]
     },
     "execution_count": 67,
     "metadata": {},
     "output_type": "execute_result"
    }
   ],
   "source": [
    "i = np.uint8(22)  # declare an integer to be unsiged 8 bit\n",
    "i"
   ]
  },
  {
   "cell_type": "code",
   "execution_count": 65,
   "metadata": {},
   "outputs": [
    {
     "data": {
      "text/plain": [
       "25"
      ]
     },
     "execution_count": 65,
     "metadata": {},
     "output_type": "execute_result"
    }
   ],
   "source": [
    "sys.getsizeof(i)  # 25 bytes to store this integer"
   ]
  },
  {
   "cell_type": "code",
   "execution_count": 66,
   "metadata": {},
   "outputs": [
    {
     "data": {
      "text/plain": [
       "1"
      ]
     },
     "execution_count": 66,
     "metadata": {},
     "output_type": "execute_result"
    }
   ],
   "source": [
    "i.nbytes   # The 'nbyes method shows the number of bytes to store the value ~ notice just 1 byte to store this value"
   ]
  },
  {
   "cell_type": "code",
   "execution_count": 69,
   "metadata": {},
   "outputs": [
    {
     "data": {
      "text/plain": [
       "1"
      ]
     },
     "execution_count": 69,
     "metadata": {},
     "output_type": "execute_result"
    }
   ],
   "source": [
    "np.uint8(257)  # if you try to store an integer larger than 255 it will \"wrap aroung\"  257 becomes 257-256 =1"
   ]
  },
  {
   "cell_type": "code",
   "execution_count": 71,
   "metadata": {},
   "outputs": [
    {
     "data": {
      "text/plain": [
       "22"
      ]
     },
     "execution_count": 71,
     "metadata": {},
     "output_type": "execute_result"
    }
   ],
   "source": [
    "j = np.int64(22)\n",
    "j"
   ]
  },
  {
   "cell_type": "code",
   "execution_count": 73,
   "metadata": {},
   "outputs": [
    {
     "data": {
      "text/plain": [
       "8"
      ]
     },
     "execution_count": 73,
     "metadata": {},
     "output_type": "execute_result"
    }
   ],
   "source": [
    "j.nbytes  # notice that 64 bit integers require 8 bytes\n"
   ]
  },
  {
   "cell_type": "code",
   "execution_count": 85,
   "metadata": {},
   "outputs": [
    {
     "data": {
      "text/plain": [
       "iinfo(min=-9223372036854775808, max=9223372036854775807, dtype=int64)"
      ]
     },
     "execution_count": 85,
     "metadata": {},
     "output_type": "execute_result"
    }
   ],
   "source": [
    "np.iinfo('int64') # notice below the range of values for int64"
   ]
  },
  {
   "cell_type": "code",
   "execution_count": 86,
   "metadata": {},
   "outputs": [
    {
     "data": {
      "text/plain": [
       "9223372036854775807"
      ]
     },
     "execution_count": 86,
     "metadata": {},
     "output_type": "execute_result"
    }
   ],
   "source": [
    "k = np.int64(2**63-1)  # this explains where the max value comes from, remember 1 bit is used as the sign bit\n",
    "k"
   ]
  },
  {
   "cell_type": "markdown",
   "metadata": {},
   "source": [
    "Case 4.  Numpy floats"
   ]
  },
  {
   "cell_type": "code",
   "execution_count": 106,
   "metadata": {},
   "outputs": [
    {
     "data": {
      "text/plain": [
       "12.2"
      ]
     },
     "execution_count": 106,
     "metadata": {},
     "output_type": "execute_result"
    }
   ],
   "source": [
    "aa = np.float64(12.2) # declare a double precision float\n",
    "aa"
   ]
  },
  {
   "cell_type": "code",
   "execution_count": 107,
   "metadata": {},
   "outputs": [
    {
     "data": {
      "text/plain": [
       "(32, 8)"
      ]
     },
     "execution_count": 107,
     "metadata": {},
     "output_type": "execute_result"
    }
   ],
   "source": [
    "(sys.getsizeof(aa),aa.nbytes)  # numpy float 64 requires 32 bytes where 8 bytes for actual number. See IEEE above\n"
   ]
  },
  {
   "cell_type": "code",
   "execution_count": 97,
   "metadata": {},
   "outputs": [
    {
     "data": {
      "text/plain": [
       "finfo(resolution=1e-15, min=-1.7976931348623157e+308, max=1.7976931348623157e+308, dtype=float64)"
      ]
     },
     "execution_count": 97,
     "metadata": {},
     "output_type": "execute_result"
    }
   ],
   "source": [
    "np.finfo('float64')  # compare max value for float64 to python 3 float.  Of courese they are the same both are double precision floats."
   ]
  },
  {
   "cell_type": "code",
   "execution_count": 108,
   "metadata": {},
   "outputs": [
    {
     "data": {
      "text/plain": [
       "12.2"
      ]
     },
     "execution_count": 108,
     "metadata": {},
     "output_type": "execute_result"
    }
   ],
   "source": [
    "bb = np.float32(12.2)  # numpy gives the flexibility of using single precision floats\n",
    "bb\n"
   ]
  },
  {
   "cell_type": "code",
   "execution_count": 103,
   "metadata": {},
   "outputs": [
    {
     "data": {
      "text/plain": [
       "(28, 4)"
      ]
     },
     "execution_count": 103,
     "metadata": {},
     "output_type": "execute_result"
    }
   ],
   "source": [
    "(sys.getsizeof(bb),bb.nbytes)  # numpy float 32 requires 28 bytes where 4 bytes for actual number. \n"
   ]
  },
  {
   "cell_type": "code",
   "execution_count": 105,
   "metadata": {},
   "outputs": [
    {
     "data": {
      "text/plain": [
       "finfo(resolution=1e-06, min=-3.4028235e+38, max=3.4028235e+38, dtype=float32)"
      ]
     },
     "execution_count": 105,
     "metadata": {},
     "output_type": "execute_result"
    }
   ],
   "source": [
    "np.finfo('float32')  # compare max value for float64 to python 3 float.  Of courese they are the same both are double precision floats."
   ]
  },
  {
   "cell_type": "markdown",
   "metadata": {},
   "source": [
    "Case 4.  Strings.   Python has no character type.  Characters are represented by strings of length 1. Below we see a minimum requirement of 49 bytes and the the count increases accordingly.\n"
   ]
  },
  {
   "cell_type": "code",
   "execution_count": 127,
   "metadata": {},
   "outputs": [
    {
     "name": "stdout",
     "output_type": "stream",
     "text": [
      "0 characters requires 49 bytes\n",
      "1 characters requires 50 bytes\n",
      "2 characters requires 51 bytes\n",
      "3 characters requires 52 bytes\n"
     ]
    }
   ],
   "source": [
    "s1 = ''\n",
    "print('0 characters requires {} bytes'.format(sys.getsizeof(s1)))\n",
    "s2 = 'a'\n",
    "print('1 characters requires {} bytes'.format(sys.getsizeof(s2)))\n",
    "s3 = 'ab'\n",
    "print('2 characters requires {} bytes'.format(sys.getsizeof(s3)))\n",
    "s4 = 'abc'\n",
    "print('3 characters requires {} bytes'.format(sys.getsizeof(s4)))"
   ]
  }
 ],
 "metadata": {
  "kernelspec": {
   "display_name": "Python 3",
   "language": "python",
   "name": "python3"
  },
  "language_info": {
   "codemirror_mode": {
    "name": "ipython",
    "version": 3
   },
   "file_extension": ".py",
   "mimetype": "text/x-python",
   "name": "python",
   "nbconvert_exporter": "python",
   "pygments_lexer": "ipython3",
   "version": "3.7.3"
  }
 },
 "nbformat": 4,
 "nbformat_minor": 4
}
