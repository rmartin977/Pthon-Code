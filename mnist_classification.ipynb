{
 "cells": [
  {
   "cell_type": "markdown",
   "metadata": {},
   "source": [
    "<h1><span style=\"color:blue\">Handwritten digit classification using multivariate linear regression. </span></h1>\n",
    "  Robert Martin\n",
    "  July 3, 2020"
   ]
  },
  {
   "cell_type": "markdown",
   "metadata": {},
   "source": [
    "In this notebook we develop a least squares model that will classify handwritten digits. This is a task more suited to convolutional neural networks. In fact such networks have been shown to have a 99% accuracy rate. Our aim is to demonstrate that this classification can be accomplished using a simple least squares model. Also this exercise will afford us a better understanding of the least squares method of building models. We will demonstrate that an accuracy rate of near 90% can be achieved using this method."
   ]
  },
  {
   "cell_type": "code",
   "execution_count": 192,
   "metadata": {},
   "outputs": [],
   "source": [
    "# Libraries\n",
    "\n",
    "import numpy as np\n",
    "%matplotlib inline\n",
    "import matplotlib.pyplot as plt\n",
    "%config InlineBackend.figure_format ='retina' \n",
    "import seaborn as sns\n",
    "sns.set()"
   ]
  },
  {
   "cell_type": "markdown",
   "metadata": {},
   "source": [
    "<h2><span style=\"color:blue\">Load the data </span></h2>"
   ]
  },
  {
   "cell_type": "markdown",
   "metadata": {},
   "source": [
    "We use a dataset of 60,000 small square 28×28 pixel grayscale images of handwritten single digits between 0 and 9 to train the model. A dataset of 10,000 images will be used in testing the model. The MNIST dataset is used.  https://en.wikipedia.org/wiki/MNIST_database"
   ]
  },
  {
   "cell_type": "code",
   "execution_count": 193,
   "metadata": {},
   "outputs": [],
   "source": [
    "# load the data\n",
    "training_data = np.genfromtxt(\"../data/mnist_train.csv\",delimiter=',')\n",
    "test_data = np.genfromtxt(\"../data/mnist_test.csv\",delimiter=',')"
   ]
  },
  {
   "cell_type": "code",
   "execution_count": 194,
   "metadata": {},
   "outputs": [
    {
     "data": {
      "text/plain": [
       "((60000, 785), (10000, 785))"
      ]
     },
     "execution_count": 194,
     "metadata": {},
     "output_type": "execute_result"
    }
   ],
   "source": [
    "(training_data.shape , test_data.shape)"
   ]
  },
  {
   "cell_type": "markdown",
   "metadata": {},
   "source": [
    "We see above that training_data is a 60,000 x 785 matrix.  Each row has 784 pixel values for the image and one value for the label.  The labels are stored in the first entry of each row.  We unpack this data below."
   ]
  },
  {
   "cell_type": "code",
   "execution_count": 195,
   "metadata": {},
   "outputs": [
    {
     "data": {
      "text/plain": [
       "((60000, 784), (60000,))"
      ]
     },
     "execution_count": 195,
     "metadata": {},
     "output_type": "execute_result"
    }
   ],
   "source": [
    "# unpack the training images and symbols\n",
    "Xtest, labelstest = (test_data[:,1:],test_data[:,0])\n",
    "X , labels = (training_data[:,1:],training_data[:,0])\n",
    "(X.shape,labels.shape)"
   ]
  },
  {
   "cell_type": "markdown",
   "metadata": {},
   "source": [
    "From above we see the matrix \"X\" contains 60,000 images of (784 = 28 x 28) pixels. The array, \"labels\" contains the 60,000 labels or target values for each image.</br>\n",
    "Let us display the digit corresponding row 5 in X."
   ]
  },
  {
   "cell_type": "code",
   "execution_count": 196,
   "metadata": {},
   "outputs": [
    {
     "data": {
      "image/png": "[encoded data removed]",
      "text/plain": [
       "<Figure size 432x288 with 1 Axes>"
      ]
     },
     "metadata": {
      "image/png": {
       "height": 251,
       "width": 253
      }
     },
     "output_type": "display_data"
    }
   ],
   "source": [
    "digit = X[5].reshape(28,28)\n",
    "plt.imshow(digit,cmap='gray')\n",
    "plt.grid()"
   ]
  },
  {
   "cell_type": "code",
   "execution_count": 197,
   "metadata": {},
   "outputs": [
    {
     "name": "stdout",
     "output_type": "stream",
     "text": [
      "2.0\n"
     ]
    }
   ],
   "source": [
    "# We see the digit \"2\" let us check the label and see if it matches the image\n",
    "print(labels[5])  # yes it does see the \"2\" below"
   ]
  },
  {
   "cell_type": "markdown",
   "metadata": {},
   "source": [
    "The linear regression model is shown below.  $X$ is the design matrix. The rows of $X$ are our inputs or \"feature vectors\". $\\vec{\\mathbf{\\beta}}$ is the parameter vector, what we are solving for. $\\vec{\\mathbf{y}}$ is the observation vector containing the labels for each input\n",
    "\n",
    "\\begin{align}\n",
    "X  \\vec{\\mathbf{\\beta}}  = \\vec{\\mathbf{y}}   \\\\  \n",
    "\\end{align}\n",
    "\n",
    "This system is overdetermined containing 60,000 equation and 785 unknown parameters. We will solve by using the standard normal equations used in least squares.\n",
    "\n",
    "\\begin{align}\n",
    "\\vec{\\mathbf{\\beta}}  =   (X^T X)^{-1} X^T  \\vec{\\mathbf{y}} \\\\   \n",
    "\\end{align}\n",
    "\n",
    "\n",
    "The vector of observations $\\vec{\\mathbf{y}}$ contains digit values 0 through 9.  The model will have difficuly predicting these values as is.  Instead imagine for a moment that we are just trying to determine if a digit is a zero or not. So we reduce our problem to a simpler problem. Just determine if the digit is a zero.  To do this we change our labele to y = 0 if the digit is not a zero and y = 1 if the digit is a zero. The numpy command below will create the new y."
   ]
  },
  {
   "cell_type": "code",
   "execution_count": 201,
   "metadata": {},
   "outputs": [
    {
     "name": "stdout",
     "output_type": "stream",
     "text": [
      "First 10 label values are [5. 0. 4. 1. 9. 2. 1. 3. 1. 4.]\n",
      "First 10 y values are [0 1 0 0 0 0 0 0 0 0]\n"
     ]
    }
   ],
   "source": [
    "y = np.where(labels==0,1,0) # this command looks \"where\" the labels values are 0 and replacese with a 1 else replace with a 0.\n",
    "print(f'First 10 label values are {labels[:10]}')\n",
    "print(f'First 10 y values are {y[:10]}')\n",
    "# see the comparison of the original vector of labels and y. The second label is a zero so we see a 1 in \n",
    "# corresponding postion for y"
   ]
  },
  {
   "cell_type": "code",
   "execution_count": 202,
   "metadata": {},
   "outputs": [],
   "source": [
    "# We need to append a column of zeros to the design matrix X\n",
    "X = np.hstack((X,np.ones((60000,1))))"
   ]
  },
  {
   "cell_type": "code",
   "execution_count": 203,
   "metadata": {},
   "outputs": [
    {
     "data": {
      "text/plain": [
       "(785,)"
      ]
     },
     "execution_count": 203,
     "metadata": {},
     "output_type": "execute_result"
    }
   ],
   "source": [
    "# compute the parameters for the model, again we are only detecting digit zero for now\n",
    "# this involves solving a sytem of 60,000 equations and 785 unknowns\n",
    "beta = np.linalg.pinv(X.T@X)@X.T@y\n",
    "beta.shape"
   ]
  },
  {
   "cell_type": "markdown",
   "metadata": {},
   "source": [
    "<h2><span style=\"color:blue\">Test the zero digit detector. </span></h1>"
   ]
  },
  {
   "cell_type": "code",
   "execution_count": 209,
   "metadata": {},
   "outputs": [],
   "source": [
    "# Get 100 random digits from the test set\n",
    "index_values = np.random.choice(range(10000),100,replace=False)\n",
    "digits = Xtest[index_values]\n",
    "# append column of 1's\n",
    "digits = np.hstack((digits,np.ones((100,1))))\n",
    "# predict output for these digits\n",
    "predict_values =(digits @ beta).round()\n"
   ]
  },
  {
   "cell_type": "code",
   "execution_count": 210,
   "metadata": {},
   "outputs": [
    {
     "data": {
      "text/plain": [
       "(array([ 2,  9, 18, 19, 23, 33, 51, 65, 75, 86, 88]),)"
      ]
     },
     "execution_count": 210,
     "metadata": {},
     "output_type": "execute_result"
    }
   ],
   "source": [
    "# which digits do we predict are zero, below will give the position of the zeros. Out of the list of 100 numbers 7 were zero.\n",
    "np.where(predict_values==1)"
   ]
  },
  {
   "cell_type": "code",
   "execution_count": 211,
   "metadata": {},
   "outputs": [
    {
     "data": {
      "text/plain": [
       "(array([ 2,  9, 17, 18, 19, 23, 33, 51, 65, 75, 86, 88]),)"
      ]
     },
     "execution_count": 211,
     "metadata": {},
     "output_type": "execute_result"
    }
   ],
   "source": [
    "# Which digits are zero, below will give the position of the zeros. Comparing below to above we see 100% accuracy.  \n",
    "# Not a big deal as we were just testing between two possiblities. Is the digit zero or not.\n",
    "np.where(labelstest[index_values]==0)"
   ]
  },
  {
   "cell_type": "markdown",
   "metadata": {},
   "source": [
    "<h2><span style=\"color:blue\">Ten digit classification. </span></h2>"
   ]
  },
  {
   "cell_type": "markdown",
   "metadata": {},
   "source": [
    "To accomplish 10 digit classification we combine 10 linear regressors, each similar to the on above, in parallel. This will involve using one-hot-encoding for our labels. Each label instead of being represented as a single digit will be represented by an array of 10 bits all zero value excecpt a \"1\" in the position corresponding to the digit value.  For example the digit 3 will be encoded [0,0,0,1,0,0,0,0,0,0]. We start counting from zero. When predicting a digit value the model will output a 10 bit string.  The postion that has the largest value is the predicted digit.\n",
    "For example if the mode output the array [.22,.01,1.2,.44,.10,.25,.45,.76,.30,.55] then we predict the digit is a \"2\". Our parameter vector $\\vec{\\mathbf{\\beta}}$ will not be a matrix of size 785 x 10.\n"
   ]
  },
  {
   "cell_type": "code",
   "execution_count": 181,
   "metadata": {},
   "outputs": [],
   "source": [
    "# one hot encode the labels\n",
    "labels = labels.astype(int)\n",
    "y = np.zeros((60000,10))\n",
    "for k in range(60000):\n",
    "    y[k,labels[k]]=1"
   ]
  },
  {
   "cell_type": "code",
   "execution_count": 182,
   "metadata": {},
   "outputs": [
    {
     "data": {
      "text/plain": [
       "array([[0., 0., 0., 0., 0., 1., 0., 0., 0., 0.],\n",
       "       [1., 0., 0., 0., 0., 0., 0., 0., 0., 0.],\n",
       "       [0., 0., 0., 0., 1., 0., 0., 0., 0., 0.],\n",
       "       [0., 1., 0., 0., 0., 0., 0., 0., 0., 0.],\n",
       "       [0., 0., 0., 0., 0., 0., 0., 0., 0., 1.],\n",
       "       [0., 0., 1., 0., 0., 0., 0., 0., 0., 0.],\n",
       "       [0., 1., 0., 0., 0., 0., 0., 0., 0., 0.],\n",
       "       [0., 0., 0., 1., 0., 0., 0., 0., 0., 0.],\n",
       "       [0., 1., 0., 0., 0., 0., 0., 0., 0., 0.],\n",
       "       [0., 0., 0., 0., 1., 0., 0., 0., 0., 0.]])"
      ]
     },
     "execution_count": 182,
     "metadata": {},
     "output_type": "execute_result"
    }
   ],
   "source": [
    "# display the first 10 labels\n",
    "y[:10,:]\n",
    "# below we see the first label is a digit \"5\"\n",
    "# for the zero digit detector we just used the first column below. Now we process all 10 columns in parallel"
   ]
  },
  {
   "cell_type": "markdown",
   "metadata": {},
   "source": [
    "<h2><span style=\"color:blue\">Compute the parameter matrix $\\vec{\\mathbf{\\beta}}$ </span></h2>"
   ]
  },
  {
   "cell_type": "code",
   "execution_count": 183,
   "metadata": {},
   "outputs": [],
   "source": [
    "beta_matrix = np.linalg.pinv(X.T@X)@X.T@y"
   ]
  },
  {
   "cell_type": "markdown",
   "metadata": {},
   "source": [
    "We have just solve a sytem of 60000 equations in 785 unknowns.  Actually we have simultaneously solved 10 such systems."
   ]
  },
  {
   "cell_type": "code",
   "execution_count": 184,
   "metadata": {},
   "outputs": [
    {
     "data": {
      "text/plain": [
       "(785, 10)"
      ]
     },
     "execution_count": 184,
     "metadata": {},
     "output_type": "execute_result"
    }
   ],
   "source": [
    "beta_matrix.shape"
   ]
  },
  {
   "cell_type": "markdown",
   "metadata": {},
   "source": [
    "<h2><span style=\"color:blue\">Test the model with 100 random digits. </span></h2>"
   ]
  },
  {
   "cell_type": "code",
   "execution_count": 185,
   "metadata": {},
   "outputs": [],
   "source": [
    "# predict output for the random digits chosen above\n",
    "predict_values =(digits @ beta_matrix)"
   ]
  },
  {
   "cell_type": "code",
   "execution_count": 186,
   "metadata": {},
   "outputs": [
    {
     "data": {
      "text/plain": [
       "(100, 10)"
      ]
     },
     "execution_count": 186,
     "metadata": {},
     "output_type": "execute_result"
    }
   ],
   "source": [
    "predict_values.shape"
   ]
  },
  {
   "cell_type": "code",
   "execution_count": 187,
   "metadata": {},
   "outputs": [
    {
     "data": {
      "text/plain": [
       "array([5, 6, 3, 7, 3, 9, 1, 7, 3, 1, 1, 0, 9, 2, 7, 9, 3, 7, 6, 6])"
      ]
     },
     "execution_count": 187,
     "metadata": {},
     "output_type": "execute_result"
    }
   ],
   "source": [
    "outcomes = np.argmax(predict_values,axis=1)\n",
    "outcomes[:20]\n",
    "# below we see the prediction for the first 20 digits"
   ]
  },
  {
   "cell_type": "code",
   "execution_count": 188,
   "metadata": {},
   "outputs": [
    {
     "name": "stdout",
     "output_type": "stream",
     "text": [
      "      [5. 6. 3. 7. 3. 3. 1. 7. 3. 3. 1. 0. 9. 2. 7. 9. 3. 7. 6. 6.]\n"
     ]
    }
   ],
   "source": [
    "print('     ',labelstest[index_values][:20])"
   ]
  },
  {
   "cell_type": "markdown",
   "metadata": {},
   "source": [
    "Compute the accuracy.  Several runs give an average accuracy between 85 - 90 %"
   ]
  },
  {
   "cell_type": "code",
   "execution_count": 189,
   "metadata": {},
   "outputs": [
    {
     "data": {
      "text/plain": [
       "0.87"
      ]
     },
     "execution_count": 189,
     "metadata": {},
     "output_type": "execute_result"
    }
   ],
   "source": [
    "sum(outcomes==labelstest[index_values])/100"
   ]
  },
  {
   "cell_type": "code",
   "execution_count": 191,
   "metadata": {},
   "outputs": [],
   "source": [
    "# save the parameter matrix for later use\n",
    "np.save(\"../data/beta_matrix.npy\",beta_matrix)"
   ]
  },
  {
   "cell_type": "code",
   "execution_count": null,
   "metadata": {},
   "outputs": [],
   "source": []
  }
 ],
 "metadata": {
  "kernelspec": {
   "display_name": "Python 3",
   "language": "python",
   "name": "python3"
  },
  "language_info": {
   "codemirror_mode": {
    "name": "ipython",
    "version": 3
   },
   "file_extension": ".py",
   "mimetype": "text/x-python",
   "name": "python",
   "nbconvert_exporter": "python",
   "pygments_lexer": "ipython3",
   "version": "3.7.6"
  }
 },
 "nbformat": 4,
 "nbformat_minor": 4
}
